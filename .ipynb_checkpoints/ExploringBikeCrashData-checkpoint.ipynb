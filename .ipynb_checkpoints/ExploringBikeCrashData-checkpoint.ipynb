{
 "cells": [
  {
   "cell_type": "markdown",
   "metadata": {},
   "source": [
    "# Exploring VicRoads Bike Crash data"
   ]
  },
  {
   "cell_type": "markdown",
   "metadata": {},
   "source": [
    "VicRoads host crash data on their [ArcGIS Open Data site](http://vicroadsopendata.vicroadsmaps.opendata.arcgis.com/).  This data changes freqently, so the purpose of this notebook (my first one) is to explore the live data from the site and see what patterns are within it.\n",
    "\n",
    "First off, lets get some libraries and adjust the styling of the charts"
   ]
  },
  {
   "cell_type": "code",
   "execution_count": 19,
   "metadata": {
    "collapsed": true
   },
   "outputs": [],
   "source": [
    "import csv\n",
    "import urllib2\n",
    "import pandas as pd\n",
    "\n",
    "# Make the graphs a bit prettier, and bigger\n",
    "pd.set_option('display.mpl_style', 'default')"
   ]
  },
  {
   "cell_type": "markdown",
   "metadata": {},
   "source": [
    "### Getting the data\n",
    "\n",
    "The crash data is for all crashes.  Although we could filter the crashes here in python, we might as well let ArcGIS Open Data do the filtering for us.  \n",
    "\n",
    "As we are only interested in bike crashes, we have applied an attribute filter [**'BICYCLIST > 1'**](http://vicroadsopendata.vicroadsmaps.opendata.arcgis.com/datasets/c2a69622ebad42e7baaa8167daa72127_0?uiTab=table&filterByExtent=false&orderByFields=BICYCLIST+DESC&geometry=123.62%2C-39.293%2C165.434%2C-34.008&where=BICYCLIST+%3E%3D+1+AND+BICYCLIST+%3C%3D+8)\n",
    "\n",
    "\n",
    "\n",
    "<img src=\"img\\getlink.gif\">\n",
    "\n",
    "We can then use this dynamic link to grab the filtered CSV for analysis in this notebook.  The following feeds the records into a [Pandas](http://pandas.pydata.org/) dataframe.  Pandas is an excellent python module for working with numerical tables and time series data."
   ]
  },
  {
   "cell_type": "code",
   "execution_count": 20,
   "metadata": {
    "collapsed": false
   },
   "outputs": [],
   "source": [
    "url = 'http://vicroadsopendata.vicroadsmaps.opendata.arcgis.com/datasets/c2a69622ebad42e7baaa8167daa72127_0.csv?where=BICYCLIST%20%3E%3D%201&inSR=102100&geometry=%7B%22xmin%22%3A13844444.803560872%2C%22ymin%22%3A-4749031.404608972%2C%22xmax%22%3A18499154.078013726%2C%22ymax%22%3A-4015235.9330714755%2C%22spatialReference%22%3A%7B%22wkid%22%3A102100%2C%22latestWkid%22%3A3857%7D%7D'\n",
    "response = urllib2.urlopen(url)\n",
    "cr = csv.reader(response)\n",
    "# Push the response into a Pandas data frame called bc for bike crashes\n",
    "bc = pd.read_csv(response) "
   ]
  },
  {
   "cell_type": "markdown",
   "metadata": {},
   "source": [
    "### How many records are there?"
   ]
  },
  {
   "cell_type": "markdown",
   "metadata": {},
   "source": [
    "Remember, this notebook is pointing to live data, therefore the results will be different as the data gets updated. The below cell explains what is within the dataframe.  The first number is the number of rows, the second is the number of columns."
   ]
  },
  {
   "cell_type": "code",
   "execution_count": 21,
   "metadata": {
    "collapsed": false,
    "scrolled": false
   },
   "outputs": [
    {
     "data": {
      "text/plain": [
       "(8043, 65)"
      ]
     },
     "execution_count": 21,
     "metadata": {},
     "output_type": "execute_result"
    }
   ],
   "source": [
    "bc.shape"
   ]
  },
  {
   "cell_type": "markdown",
   "metadata": {},
   "source": [
    "We can return the first three records in the table to make sure things look as expected."
   ]
  },
  {
   "cell_type": "code",
   "execution_count": 22,
   "metadata": {
    "collapsed": false
   },
   "outputs": [
    {
     "data": {
      "text/html": [
       "<div>\n",
       "<table border=\"1\" class=\"dataframe\">\n",
       "  <thead>\n",
       "    <tr style=\"text-align: right;\">\n",
       "      <th></th>\n",
       "      <th>﻿X</th>\n",
       "      <th>Y</th>\n",
       "      <th>OBJECTID</th>\n",
       "      <th>ACCIDENT_NO</th>\n",
       "      <th>ABS_CODE</th>\n",
       "      <th>ACCIDENT_STATUS</th>\n",
       "      <th>ACCIDENT_DATE</th>\n",
       "      <th>ACCIDENT_TIME</th>\n",
       "      <th>ALCOHOLTIME</th>\n",
       "      <th>ACCIDENT_TYPE</th>\n",
       "      <th>...</th>\n",
       "      <th>DEG_URBAN_ALL</th>\n",
       "      <th>LGA_NAME_ALL</th>\n",
       "      <th>REGION_NAME_ALL</th>\n",
       "      <th>SRNS</th>\n",
       "      <th>SRNS_ALL</th>\n",
       "      <th>RMA</th>\n",
       "      <th>RMA_ALL</th>\n",
       "      <th>DIVIDED</th>\n",
       "      <th>DIVIDED_ALL</th>\n",
       "      <th>STAT_DIV_NAME</th>\n",
       "    </tr>\n",
       "  </thead>\n",
       "  <tbody>\n",
       "    <tr>\n",
       "      <th>0</th>\n",
       "      <td>144.746966</td>\n",
       "      <td>-36.123918</td>\n",
       "      <td>3015</td>\n",
       "      <td>T20100039097</td>\n",
       "      <td>ABS to receive accident</td>\n",
       "      <td>Finished</td>\n",
       "      <td>30/9/2010</td>\n",
       "      <td>17.50.00</td>\n",
       "      <td>No</td>\n",
       "      <td>Collision with vehicle</td>\n",
       "      <td>...</td>\n",
       "      <td>Small Provincial Cities</td>\n",
       "      <td>CAMPASPE</td>\n",
       "      <td>NORTHERN REGION</td>\n",
       "      <td>C</td>\n",
       "      <td>C</td>\n",
       "      <td>Arterial Other</td>\n",
       "      <td>Arterial Other</td>\n",
       "      <td>Undivided</td>\n",
       "      <td>Undivided</td>\n",
       "      <td>Country</td>\n",
       "    </tr>\n",
       "    <tr>\n",
       "      <th>1</th>\n",
       "      <td>144.787488</td>\n",
       "      <td>-37.737974</td>\n",
       "      <td>3028</td>\n",
       "      <td>T20100039141</td>\n",
       "      <td>ABS to receive accident</td>\n",
       "      <td>Finished</td>\n",
       "      <td>30/9/2010</td>\n",
       "      <td>15.45.00</td>\n",
       "      <td>No</td>\n",
       "      <td>Collision with vehicle</td>\n",
       "      <td>...</td>\n",
       "      <td>Metropolitan Excluding CBD</td>\n",
       "      <td>BRIMBANK</td>\n",
       "      <td>METROPOLITAN NORTH WEST REGION</td>\n",
       "      <td>NaN</td>\n",
       "      <td>NaN</td>\n",
       "      <td>Local Road</td>\n",
       "      <td>Local Road</td>\n",
       "      <td>Undivided</td>\n",
       "      <td>Undivided</td>\n",
       "      <td>Metro</td>\n",
       "    </tr>\n",
       "    <tr>\n",
       "      <th>2</th>\n",
       "      <td>145.276442</td>\n",
       "      <td>-38.082238</td>\n",
       "      <td>3043</td>\n",
       "      <td>T20100039214</td>\n",
       "      <td>ABS to receive accident</td>\n",
       "      <td>Finished</td>\n",
       "      <td>1/10/2010</td>\n",
       "      <td>13.47.00</td>\n",
       "      <td>No</td>\n",
       "      <td>Collision with vehicle</td>\n",
       "      <td>...</td>\n",
       "      <td>Metropolitan Excluding CBD</td>\n",
       "      <td>CASEY</td>\n",
       "      <td>METROPOLITAN SOUTH EAST REGION</td>\n",
       "      <td>M</td>\n",
       "      <td>M</td>\n",
       "      <td>Arterial Highway</td>\n",
       "      <td>Arterial Highway,Arterial Other</td>\n",
       "      <td>Undivided</td>\n",
       "      <td>Undivided</td>\n",
       "      <td>Metro</td>\n",
       "    </tr>\n",
       "  </tbody>\n",
       "</table>\n",
       "<p>3 rows × 65 columns</p>\n",
       "</div>"
      ],
      "text/plain": [
       "           ﻿X          Y  OBJECTID   ACCIDENT_NO                 ABS_CODE  \\\n",
       "0  144.746966 -36.123918      3015  T20100039097  ABS to receive accident   \n",
       "1  144.787488 -37.737974      3028  T20100039141  ABS to receive accident   \n",
       "2  145.276442 -38.082238      3043  T20100039214  ABS to receive accident   \n",
       "\n",
       "  ACCIDENT_STATUS ACCIDENT_DATE ACCIDENT_TIME ALCOHOLTIME  \\\n",
       "0        Finished     30/9/2010      17.50.00          No   \n",
       "1        Finished     30/9/2010      15.45.00          No   \n",
       "2        Finished     1/10/2010      13.47.00          No   \n",
       "\n",
       "            ACCIDENT_TYPE      ...                     DEG_URBAN_ALL  \\\n",
       "0  Collision with vehicle      ...           Small Provincial Cities   \n",
       "1  Collision with vehicle      ...        Metropolitan Excluding CBD   \n",
       "2  Collision with vehicle      ...        Metropolitan Excluding CBD   \n",
       "\n",
       "  LGA_NAME_ALL                 REGION_NAME_ALL SRNS SRNS_ALL  \\\n",
       "0     CAMPASPE                 NORTHERN REGION    C        C   \n",
       "1     BRIMBANK  METROPOLITAN NORTH WEST REGION  NaN      NaN   \n",
       "2        CASEY  METROPOLITAN SOUTH EAST REGION    M        M   \n",
       "\n",
       "                RMA                          RMA_ALL    DIVIDED DIVIDED_ALL  \\\n",
       "0    Arterial Other                   Arterial Other  Undivided   Undivided   \n",
       "1        Local Road                       Local Road  Undivided   Undivided   \n",
       "2  Arterial Highway  Arterial Highway,Arterial Other  Undivided   Undivided   \n",
       "\n",
       "   STAT_DIV_NAME  \n",
       "0        Country  \n",
       "1          Metro  \n",
       "2          Metro  \n",
       "\n",
       "[3 rows x 65 columns]"
      ]
     },
     "execution_count": 22,
     "metadata": {},
     "output_type": "execute_result"
    }
   ],
   "source": [
    "bc[:3]"
   ]
  },
  {
   "cell_type": "markdown",
   "metadata": {},
   "source": [
    "### Which day do most crashes happen?"
   ]
  },
  {
   "cell_type": "code",
   "execution_count": 27,
   "metadata": {
    "collapsed": false
   },
   "outputs": [
    {
     "name": "stdout",
     "output_type": "stream",
     "text": [
      "Wednesday    1376\n",
      "Tuesday      1374\n",
      "Thursday     1359\n",
      "Friday       1183\n",
      "Monday       1086\n",
      "Saturday      867\n",
      "Sunday        747\n",
      "Name: DAY_OF_WEEK, dtype: int64\n"
     ]
    }
   ],
   "source": [
    "crashes_by_day = bc['DAY_OF_WEEK'].value_counts()\n",
    "print crashes_by_day"
   ]
  },
  {
   "cell_type": "markdown",
   "metadata": {},
   "source": [
    "But lets plot that out just because we can."
   ]
  },
  {
   "cell_type": "code",
   "execution_count": 28,
   "metadata": {
    "collapsed": false
   },
   "outputs": [
    {
     "data": {
      "text/plain": [
       "<matplotlib.axes._subplots.AxesSubplot at 0xb5dc690>"
      ]
     },
     "execution_count": 28,
     "metadata": {},
     "output_type": "execute_result"
    }
   ],
   "source": [
    "crashes_by_day.plot(kind='bar')"
   ]
  },
  {
   "cell_type": "markdown",
   "metadata": {},
   "source": []
  }
 ],
 "metadata": {
  "kernelspec": {
   "display_name": "Python 2",
   "language": "python",
   "name": "python2"
  },
  "language_info": {
   "codemirror_mode": {
    "name": "ipython",
    "version": 2
   },
   "file_extension": ".py",
   "mimetype": "text/x-python",
   "name": "python",
   "nbconvert_exporter": "python",
   "pygments_lexer": "ipython2",
   "version": "2.7.11"
  }
 },
 "nbformat": 4,
 "nbformat_minor": 0
}
